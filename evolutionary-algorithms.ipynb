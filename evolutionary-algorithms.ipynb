{
 "cells": [
  {
   "cell_type": "code",
   "execution_count": 1,
   "id": "62e0fa6a-f31e-4ab8-8bd9-190a291de819",
   "metadata": {},
   "outputs": [],
   "source": [
    "# imports\n",
    "import jax\n",
    "import jax.numpy as jnp\n",
    "\n",
    "import matplotlib.pyplot as plt\n",
    "from matplotlib.animation import FuncAnimation\n",
    "\n",
    "from tree_ops import *\n",
    "from util import *\n",
    "\n",
    "from matplotlib.patches import Ellipse\n",
    "import matplotlib.transforms as transforms\n",
    "import numpy as np"
   ]
  },
  {
   "cell_type": "markdown",
   "id": "89e2358b-b601-46dc-b686-bb71639a0d13",
   "metadata": {},
   "source": [
    "# Evolutionary algorithms\n",
    "Multiple types of evolution-inspired algorithms may be distinguished :\n",
    "- **Genetic algorithms:** Iteratively evolve a population of \"individuals\", each made up of (binary) strings <br>\n",
    "    optimization search on strings or binary arrays\n",
    "- **Evolution strategies:** Evolve populations of real vectors <br>\n",
    "    optimization search on real valued vectors \n",
    "- **Genetic programming:** Evolution of computer program or network architectures <br>\n",
    "    optimization of computer programs represented as trees\n",
    "- **Evolutionary programming:** Evolve the parameters of a program <br>\n",
    "    optimization search on real vetors representing parameters of computer programs\n",
    "\n",
    "Generally:\n",
    "1. Create offspring by mutation, crossover\n",
    "2. Evaluate fitness\n",
    "3. Select fittest individuals"
   ]
  },
  {
   "cell_type": "markdown",
   "id": "4281e926-6f14-4c74-b34f-b078c538145b",
   "metadata": {},
   "source": [
    "## Evolution strategies\n",
    "ES consist of exploring the search space using populations of real vectors.\n",
    "Populations are generated using a covariance matrix $C$, whose value is iteratively adapted, based on which individuals perform best.\n",
    "\n",
    "### Example\n",
    "Given a mean $m$ (state), generate offspring by $x_i = m + z_i$ with $z_i \\sim \\mathcal{G}(0, C)$.\n",
    "\n",
    "- Generate $x_i = m + z_i$\n",
    "- Select $\\lambda$ best individuals $x_i$ as offspring\n",
    "- New state by averaging $$m_{t+1} = \\frac{1}{\\lambda} \\sum_i x_i = m_t + \\frac{1}{\\lambda} \\sum_i z_i\\,,$$ or by selecting best $x_i$\n",
    "- Update $C \\mapsto (1-\\epsilon)C + \\epsilon Z$ where $Z$ is the covariance among the offspring\n",
    "  $$Z = \\frac{1}{\\lambda} \\sum_i z_i z_i^T \\,.$$ \n",
    "  \n",
    "Various [other algorithms](https://en.wikipedia.org/wiki/CMA-ES) are possible to adapt the magnitude and correlation of the mutation noise.\n",
    "  \n",
    "### Nested evolution strategies\n",
    "One can construct more complex strategies for evolving the population.\n",
    "For example, one may have a collection of sub-populations, for each of which a child population is sampled and independently evolved for a number of generations.\n",
    "From these, new founding populations may be selected."
   ]
  },
  {
   "cell_type": "code",
   "execution_count": 2,
   "id": "d0d8f3ab-aa6d-4cfc-8703-ecaf30454e53",
   "metadata": {},
   "outputs": [],
   "source": [
    "def evo_strat_populate(key, mean, cov, fitness_fn, num_children, num_select, eps=0.1):\n",
    "    \"\"\"Generate child population from parent, i.e. (1, num_chilren).\"\"\"\n",
    "    # generate z_i\n",
    "    delta = jax.random.multivariate_normal(key, jnp.zeros(len(cov)), cov, shape=(num_children,))\n",
    "    \n",
    "    # children\n",
    "    children = mean[None, :] + delta\n",
    "    \n",
    "    # evaluate fitness\n",
    "    fitness = jax.vmap(fitness_fn)(children)\n",
    "    \n",
    "    # select top\n",
    "    best = jnp.argsort(fitness)[-num_select:]\n",
    "    children = children[best]\n",
    "    \n",
    "    # update cov matrix\n",
    "    cov = (1-eps) * cov + eps * jnp.cov(delta[best], rowvar=False)\n",
    "    \n",
    "    return children, cov"
   ]
  },
  {
   "cell_type": "code",
   "execution_count": 3,
   "id": "63613c31-1798-4924-84f8-4a6355a16526",
   "metadata": {},
   "outputs": [
    {
     "name": "stderr",
     "output_type": "stream",
     "text": [
      "WARNING:absl:No GPU/TPU found, falling back to CPU. (Set TF_CPP_MIN_LOG_LEVEL=0 and rerun for more info.)\n"
     ]
    }
   ],
   "source": [
    "# fix random number generator seed\n",
    "rns = PRNGSequence(0)"
   ]
  },
  {
   "cell_type": "code",
   "execution_count": 4,
   "id": "954603ec-9397-41b7-b30c-51469add51f5",
   "metadata": {},
   "outputs": [],
   "source": [
    "def sin_fit(x):\n",
    "    return -x[0]**2 - x[1]**2\n",
    "def sin_fit(x):\n",
    "    return -(jnp.sin(x[0]*2) - x[1])**2 - x[0]**2"
   ]
  },
  {
   "cell_type": "code",
   "execution_count": 5,
   "id": "fcea516f-e888-4661-8e74-cf9dd1d3e779",
   "metadata": {},
   "outputs": [],
   "source": [
    "step = partial(evo_strat_populate, fitness_fn=sin_fit, num_children=20, num_select=10)\n",
    "step = jax.jit(step)"
   ]
  },
  {
   "cell_type": "code",
   "execution_count": 6,
   "id": "5664dcb0-e60f-421e-8d9b-f26d0e231e21",
   "metadata": {
    "tags": []
   },
   "outputs": [],
   "source": [
    "number_steps = 100\n",
    "\n",
    "# initial values\n",
    "cov = jnp.eye(2) * 0.2\n",
    "mean = jnp.array([-6, 5])\n",
    "\n",
    "# set up plotting\n",
    "fig = plt.figure(figsize=(8,8))\n",
    "ax = plt.axes(xlim=(-7, 7), ylim=(-7, 7))\n",
    "ax.imshow(sin_fit(jnp.stack(jnp.mgrid[-7:7:.1, -7:7:.1])), alpha=0.6, extent=(-7, 7, -7, 7))\n",
    "ax.set_xticks([]); ax.set_yticks([])\n",
    "fig.tight_layout()\n",
    "ell = ax.add_patch(Ellipse((0, 0), 1, 1, edgecolor='red', facecolor='none'))\n",
    "pop_plt, = ax.plot([], [], '.')\n",
    "mean_plt, = ax.plot([], [], 'o')\n",
    "\n",
    "# update ellipse\n",
    "def update_ellipse(ax, ell, mean, cov):\n",
    "    pearson = cov[0, 1]/np.sqrt(cov[0, 0] * cov[1, 1])\n",
    "    ell_radius_x = np.sqrt(1 + pearson)\n",
    "    ell_radius_y = np.sqrt(1 - pearson)\n",
    "    ell.set_width(ell_radius_x * 2)\n",
    "    ell.set_height(ell_radius_y * 2)\n",
    "    scale_x = np.sqrt(cov[0, 0])\n",
    "    scale_y = np.sqrt(cov[1, 1])\n",
    "    transf = transforms.Affine2D() \\\n",
    "        .rotate_deg(45) \\\n",
    "        .scale(scale_x, scale_y) \\\n",
    "        .translate(mean[0], mean[1])\n",
    "    ell.set_transform(transf + ax.transData)\n",
    "    return ell,\n",
    "\n",
    "def init():\n",
    "    mean_plt.set_data(*mean.T)\n",
    "    pop_plt.set_data([], [])\n",
    "    update_ellipse(ax, ell, mean, cov)\n",
    "    return pop_plt, mean_plt, ell\n",
    "\n",
    "def animate(i):\n",
    "    # perform evolution step\n",
    "    global mean, cov\n",
    "    population, cov = step(next(rns), mean, cov)\n",
    "    mean = jnp.mean(population, axis=0)\n",
    "    \n",
    "    pop_plt.set_data(*population.T)\n",
    "    mean_plt.set_data(*mean)\n",
    "    update_ellipse(ax, ell, mean, cov)\n",
    "    return pop_plt, mean_plt, ell\n",
    "\n",
    "anim = FuncAnimation(fig, animate, init_func=init, frames=number_steps, interval=100, blit=True)\n",
    "anim.save('figs/evo-strategy.gif')\n",
    "plt.close(fig)"
   ]
  },
  {
   "cell_type": "markdown",
   "id": "27f0faec-bf31-4fbb-bb26-aed3b8a5cad7",
   "metadata": {},
   "source": [
    "![evo](figs/evo-strategy.gif)"
   ]
  },
  {
   "cell_type": "markdown",
   "id": "b2901ecd-5dd4-4eb7-ba7a-942e71011562",
   "metadata": {},
   "source": [
    "## Genetic Algorithms\n",
    "Similar to evolutionary strategies, genetic algorithms aim to solve an optimization problems by artificially evolving populations of candidate solutions.\n",
    "This relies again on mutation and selection, but in addition may incorporate crossover.\n",
    "Individuals (chromosomes) are commonly represented as bit arrays or strings.\n",
    "\n",
    "General algorithm:\n",
    "1. Evaluate fitness of pouplation\n",
    "2. Rank individuals and select from best (may be sampling with replacement)\n",
    "3. Mix individuals / \"breed\"; crossover (cut strings of chosen individuals and glue back together)\n",
    "4. Mutate (random noise)\n",
    "\n",
    "![crossover](https://upload.wikimedia.org/wikipedia/commons/d/dd/Computational.science.Genetic.algorithm.Crossover.One.Point.svg)\n",
    "\n",
    "Source: [wikimedia](https://upload.wikimedia.org/wikipedia/commons/d/dd/Computational.science.Genetic.algorithm.Crossover.One.Point.svg)\n",
    "\n",
    "### Examples\n",
    "- Any discrete problem can be represented using a byte string\n",
    "- Chromosome may not directly be selected for, but rather its \"phenotype\"\n",
    "    - E.g. evolve architecture of neural network. To evaluate fitness, for each individual run machine learning algorithm. Network behaviour constitutes the phenotype."
   ]
  },
  {
   "cell_type": "code",
   "execution_count": 7,
   "id": "fdfa7066-8c47-4816-b626-de2d9ac8cc5c",
   "metadata": {},
   "outputs": [],
   "source": [
    "@jax.jit\n",
    "def roulette_wheel_positions(sizes, positions, epsilon=1e-6):\n",
    "    squashed = jnp.empty_like(positions)\n",
    "    s0 = 0\n",
    "    for i, s in enumerate(sizes):\n",
    "        squashed = jnp.where((positions >= s0) & (positions < s0 + s), i, squashed)\n",
    "        s0 += s\n",
    "    return jnp.floor(squashed).astype(jnp.int32)\n",
    "\n",
    "\n",
    "def select_roulette(key, population, fitness):\n",
    "    \"\"\"Make a selection corresponding to a single spin of a roulette wheel.\"\"\"\n",
    "    sizes = fitness / jnp.sum(fitness)\n",
    "\n",
    "    bin_width = 1 / len(population)\n",
    "    pos = jnp.arange(0, 1, bin_width) + jax.random.uniform(key, maxval=bin_width)\n",
    "    \n",
    "    idc = roulette_wheel_positions(sizes, pos)\n",
    "    if isinstance(population, list):\n",
    "        return [population[i] for i in idc]\n",
    "    return population[idc]\n",
    "\n",
    "\n",
    "def _cross(args):\n",
    "    key, chrom1, chrom2 = args\n",
    "    pos = jax.random.uniform(key, minval=0, maxval=len(chrom1))\n",
    "    idc = jnp.arange(len(chrom1)) < pos\n",
    "    c1 = jnp.where(idc, chrom1, chrom2)\n",
    "    c2 = jnp.where(idc, chrom2, chrom1)\n",
    "    return c1, c2\n",
    "    \n",
    "\n",
    "def _reprod(args):\n",
    "    key, chrom1, chrom2 = args\n",
    "    return chrom1, chrom2\n",
    "\n",
    "\n",
    "def cross(key, chrom1, chrom2, p_cross):\n",
    "    k1, k2 = jax.random.split(key)\n",
    "    return jax.lax.cond(\n",
    "        jax.random.bernoulli(k1, p_cross),\n",
    "        _cross,\n",
    "        _reprod,\n",
    "        (k2, chrom1, chrom2)\n",
    "    )\n",
    "\n",
    "\n",
    "def mutate(key, chrom, p_mut):\n",
    "    mut = jax.random.bernoulli(key, p_mut, (len(chrom),))\n",
    "    return chrom ^ mut  # bitwise xor\n",
    "\n",
    "\n",
    "def ga_step(key, pop, p_mut, p_cross, fitness_fn):\n",
    "    k1, k2, k3 = jax.random.split(key, 3)\n",
    "    \n",
    "    # evaluate\n",
    "    fitness = jax.vmap(fitness_fn)(pop)\n",
    "    \n",
    "    # select\n",
    "    pop = select_roulette(k1, pop, fitness)\n",
    "    \n",
    "    # crossover (note: may want to mix population for more randomness)\n",
    "    pop1, pop2 = pop.reshape((2, len(pop)//2, -1))\n",
    "    keys = jax.random.split(k2, len(pop1))\n",
    "    pop1, pop2 = jax.vmap(cross, (0, 0, 0, None))(keys, pop1, pop2, p_cross)\n",
    "    pop = jnp.concatenate((pop1, pop2))\n",
    "    \n",
    "    # mutate\n",
    "    keys = jax.random.split(k3, len(pop))\n",
    "    pop = jax.vmap(mutate, (0, 0, None))(keys, pop, p_mut)\n",
    "    \n",
    "    return pop"
   ]
  },
  {
   "cell_type": "code",
   "execution_count": 8,
   "id": "8911147d-374a-4eb0-900a-d668f7a3c3f5",
   "metadata": {},
   "outputs": [],
   "source": [
    "def fit_ones(chrom):\n",
    "    return jnp.sum(chrom)  # count number of ones"
   ]
  },
  {
   "cell_type": "code",
   "execution_count": 9,
   "id": "82dabdee-8fd1-4d43-b103-3c48ee240179",
   "metadata": {},
   "outputs": [],
   "source": [
    "step = partial(ga_step, fitness_fn=fit_ones, p_mut=0.005, p_cross=0.3)\n",
    "step = jax.jit(step)"
   ]
  },
  {
   "cell_type": "code",
   "execution_count": 10,
   "id": "6ec84d7c-3c64-42ad-86be-a895f860ac0b",
   "metadata": {},
   "outputs": [],
   "source": [
    "number_steps = 350\n",
    "\n",
    "# initial values\n",
    "pop = jax.random.bernoulli(next(rns), 0.1, (8, 20))\n",
    "\n",
    "# set up plotting\n",
    "fig = plt.figure(figsize=(10, 5))\n",
    "ax = plt.axes()\n",
    "pop_plt = ax.imshow(pop)\n",
    "ax.set_xticks([]); ax.set_yticks([])\n",
    "fig.tight_layout()\n",
    "\n",
    "def init():\n",
    "    pop_plt.set_data(pop)\n",
    "    return pop_plt,\n",
    "\n",
    "def animate(i):\n",
    "    # perform evolution step\n",
    "    global pop\n",
    "    pop = step(next(rns), pop)\n",
    "    pop_plt.set_data(pop)\n",
    "    return pop_plt,\n",
    "\n",
    "anim = FuncAnimation(fig, animate, init_func=init, frames=number_steps, interval=40, blit=True)\n",
    "anim.save('figs/genetic-alg.gif')\n",
    "plt.close()"
   ]
  },
  {
   "cell_type": "markdown",
   "id": "44bcb35b-fb1f-4487-80ae-67cb20775147",
   "metadata": {},
   "source": [
    "![genetic-algorithms](figs/genetic-alg.gif)"
   ]
  }
 ],
 "metadata": {
  "kernelspec": {
   "display_name": "Scientific Python",
   "language": "python",
   "name": "python3"
  },
  "language_info": {
   "codemirror_mode": {
    "name": "ipython",
    "version": 3
   },
   "file_extension": ".py",
   "mimetype": "text/x-python",
   "name": "python",
   "nbconvert_exporter": "python",
   "pygments_lexer": "ipython3",
   "version": "3.9.9"
  }
 },
 "nbformat": 4,
 "nbformat_minor": 5
}
