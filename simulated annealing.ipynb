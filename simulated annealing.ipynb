{
 "cells": [
  {
   "cell_type": "code",
   "execution_count": 1,
   "id": "139d3cfa-55b9-44aa-8725-f971687d03ae",
   "metadata": {
    "jupyter": {
     "source_hidden": true
    },
    "tags": []
   },
   "outputs": [],
   "source": [
    "# imports\n",
    "import jax\n",
    "import jax.numpy as jnp\n",
    "\n",
    "import matplotlib.pyplot as plt\n",
    "from matplotlib.animation import FuncAnimation\n",
    "\n",
    "from tree_ops import *\n",
    "from util import *"
   ]
  },
  {
   "cell_type": "markdown",
   "id": "4ad419ec-d00d-4a16-918f-1cfbc1b64cfc",
   "metadata": {},
   "source": [
    "# Simulated annealing\n",
    "Inspird by the annealing process in physics, simulated annealing aims to improve on basic hill climbing (random mutation, accept if improvement) by introducing temperature-dependent randomness. It can be considered a stochastic variant of hill climbing.\n",
    "\n",
    "1. Find candidate solution $\\tilde{x}$, for example in $\\epsilon$-ball around $x_t$.\n",
    "2. If $E_{t+1} < E_{t}$ accept: $x_{i+t} = \\tilde{x}$, <br>\n",
    "   else accept with probability $e^{-\\Delta E / T}$ or retain old position $x_{t+1} = x_t$.\n",
    "3. Repeat and adapt temperature $T$.\n",
    "\n",
    "With schedule $T(t) = \\frac{T_0}{\\log 1 + t}$ optimal solution is found with probability $1$ for $t \\rightarrow \\infty$."
   ]
  },
  {
   "cell_type": "code",
   "execution_count": 2,
   "id": "adcc718b-4984-4321-b19e-496fb8427ad9",
   "metadata": {},
   "outputs": [],
   "source": [
    "# Local random change\n",
    "def _epsilon_ball(key, position, temperature, eps=0.5):\n",
    "    return position + jax.random.uniform(key, minval=-eps, maxval=eps)\n",
    "\n",
    "# One step of simulated annealing\n",
    "def sim_annealing_step(key, position, energy, temperature, energy_fn, local_mutation=_epsilon_ball):\n",
    "    k1, k2 = jax.random.split(key)\n",
    "    \n",
    "    # choose candidate new position\n",
    "    new_position = tree_multimap_rand(local_mutation, k1, position, temperature=temperature)\n",
    "    \n",
    "    # evaluate new energy\n",
    "    new_energy = energy_fn(new_position)\n",
    "    \n",
    "    # likelihood to accept\n",
    "    p = jnp.exp((energy - new_energy) / temperature)\n",
    "    \n",
    "    return jax.lax.cond(\n",
    "        # condition\n",
    "        jax.random.bernoulli(k2, p),\n",
    "        # accept if true\n",
    "        lambda _: (new_position, new_energy),\n",
    "        # else reject\n",
    "        lambda _: (position, energy),\n",
    "        None)"
   ]
  },
  {
   "cell_type": "code",
   "execution_count": 3,
   "id": "1094e384-1056-4753-bda9-a3cf140d93f4",
   "metadata": {},
   "outputs": [],
   "source": [
    "def sin_energy(x):\n",
    "    return x**2/1.5 + jnp.sin(x*7)"
   ]
  },
  {
   "cell_type": "code",
   "execution_count": 4,
   "id": "545bda49-b354-487f-816f-155b2748fd2a",
   "metadata": {},
   "outputs": [],
   "source": [
    "# fix energy function\n",
    "step = partial(sim_annealing_step, energy_fn=sin_energy)\n",
    "\n",
    "# make it be applicable to multiple points simultaneously\n",
    "step = jax.vmap(step, in_axes=(0, 0, 0, None))\n",
    "# compile for speed up\n",
    "step = jax.jit(step)"
   ]
  },
  {
   "cell_type": "code",
   "execution_count": 5,
   "id": "201a3100-a22b-4a58-b750-1de31d234b3d",
   "metadata": {},
   "outputs": [
    {
     "name": "stderr",
     "output_type": "stream",
     "text": [
      "WARNING:absl:No GPU/TPU found, falling back to CPU. (Set TF_CPP_MIN_LOG_LEVEL=0 and rerun for more info.)\n"
     ]
    }
   ],
   "source": [
    "# fix random number generator seed\n",
    "rns = PRNGSequence(42)"
   ]
  },
  {
   "cell_type": "code",
   "execution_count": 6,
   "id": "e9f2ebb5-1b8d-4c89-9c91-f38c71903ed3",
   "metadata": {},
   "outputs": [],
   "source": [
    "temp0 = 2\n",
    "number_steps = 200\n",
    "\n",
    "# initial values\n",
    "xs = jax.random.uniform(next(rns), (20,), minval=-5, maxval=5)\n",
    "energy = sin_energy(xs)\n",
    "\n",
    "# set up plotting\n",
    "fig = plt.figure()\n",
    "ax = plt.axes(xlim=(-5, 5), ylim=(-1, 17.5))\n",
    "_xs = jnp.linspace(-5, 5, 200)\n",
    "ax.plot(_xs, sin_energy(_xs))\n",
    "ax.set_xticks([]); ax.set_yticks([])\n",
    "fig.tight_layout()\n",
    "pos, = ax.plot([], [], 'o')\n",
    "\n",
    "def init():\n",
    "    pos.set_data([], [])\n",
    "    return pos,\n",
    "\n",
    "def animate(i):\n",
    "    # perform simulated annealing step\n",
    "    global xs, energy\n",
    "    temp = temp0 / jnp.log(1 + i)\n",
    "    keys = jax.random.split(next(rns), len(xs))\n",
    "    xs, energy = step(keys, xs, energy, temp)    \n",
    "    \n",
    "    pos.set_data(xs, energy)\n",
    "    return pos,\n",
    "\n",
    "anim = FuncAnimation(fig, animate, init_func=init, frames=number_steps, interval=100, blit=True)\n",
    "anim.save('figs/sim-annealing.gif')\n",
    "plt.close(fig)"
   ]
  },
  {
   "cell_type": "markdown",
   "id": "0d4870bd-e850-44d8-884b-25cb1c9c4188",
   "metadata": {},
   "source": [
    "![annealing](figs/sim-annealing.gif)"
   ]
  }
 ],
 "metadata": {
  "kernelspec": {
   "display_name": "Scientific Python",
   "language": "python",
   "name": "python3"
  },
  "language_info": {
   "codemirror_mode": {
    "name": "ipython",
    "version": 3
   },
   "file_extension": ".py",
   "mimetype": "text/x-python",
   "name": "python",
   "nbconvert_exporter": "python",
   "pygments_lexer": "ipython3",
   "version": "3.9.9"
  }
 },
 "nbformat": 4,
 "nbformat_minor": 5
}
